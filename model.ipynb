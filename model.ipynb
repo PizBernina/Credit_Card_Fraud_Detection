{
 "cells": [
  {
   "cell_type": "code",
   "execution_count": 4,
   "metadata": {
    "collapsed": true
   },
   "outputs": [],
   "source": [
    "import pandas as pd\n",
    "import numpy as np"
   ]
  },
  {
   "cell_type": "code",
   "execution_count": 1,
   "metadata": {
    "pycharm": {
     "is_executing": false
    }
   },
   "outputs": [
    {
     "traceback": [
      "\u001b[1;31m---------------------------------------------------------------------------\u001b[0m",
      "\u001b[1;31mModuleNotFoundError\u001b[0m                       Traceback (most recent call last)",
      "\u001b[1;32m<ipython-input-1-3466ff530b72>\u001b[0m in \u001b[0;36m<module>\u001b[1;34m\u001b[0m\n\u001b[1;32m----> 1\u001b[1;33m \u001b[1;32mimport\u001b[0m \u001b[0mmatplotlib\u001b[0m\u001b[1;33m.\u001b[0m\u001b[0mpyplot\u001b[0m \u001b[1;32mas\u001b[0m \u001b[0mplt\u001b[0m\u001b[1;33m\u001b[0m\u001b[0m\n\u001b[0m\u001b[0;32m      2\u001b[0m \u001b[1;32mimport\u001b[0m \u001b[0mseaborn\u001b[0m \u001b[1;32mas\u001b[0m \u001b[0msns\u001b[0m\u001b[1;33m\u001b[0m\u001b[0m\n\u001b[0;32m      3\u001b[0m \u001b[1;33m\u001b[0m\u001b[0m\n",
      "\u001b[1;31mModuleNotFoundError\u001b[0m: No module named 'matplotlib'"
     ],
     "ename": "ModuleNotFoundError",
     "evalue": "No module named 'matplotlib'",
     "output_type": "error"
    }
   ],
   "source": [
    "import matplotlib.pyplot as plt\n",
    "import seaborn as sns\n",
    "from sklearn.model_selection import train_test_split"
   ]
  },
  {
   "cell_type": "code",
   "execution_count": null,
   "metadata": {},
   "outputs": [],
   "source": [
    "#get the data\n",
    "id_raw_df   =pd.read_csv(\"train_identity.csv\")\n",
    "id_trans_df =pd.read_csv(\"train_transaction.csv\")"
   ]
  },
  {
   "cell_type": "code",
   "execution_count": 2,
   "outputs": [],
   "source": [
    "#EDA\n",
    "id_raw_df.shape\n",
    "id_trans_df.shape"
   ],
   "metadata": {
    "collapsed": false,
    "pycharm": {
     "name": "#%%\n",
     "is_executing": false
    }
   }
  },
  {
   "cell_type": "code",
   "execution_count": null,
   "outputs": [],
   "source": [
    "#merge\n",
    "train_full_df = pd.merge(id_trans_df, id_raw_df, on='TransactionID', how='left')\n",
    "train_full_df.shape\n",
    "len(train_full_df[train_full_df[\"isFraud\"]==1])/len(train_full_df)*100"
   ],
   "metadata": {
    "collapsed": false,
    "pycharm": {
     "name": "#%%\n"
    }
   }
  },
  {
   "cell_type": "code",
   "execution_count": null,
   "outputs": [],
   "source": [
    "#Drop NaNs\n",
    "plt.figure(figsize=(90,40))\n",
    "sns.barplot(y=train_full_df.isnull().sum().sort_values(ascending=False)/len(train_full_df),\n",
    "            x=train_full_df.isnull().sum().sort_values(ascending=False).index,\n",
    "            palette=\"Reds_d\")\n",
    "\n",
    "columns_def=pd.DataFrame({\"na_count\":train_full_df.isnull().sum().sort_values(ascending=False)})\n",
    "\n",
    "columns_def[\"per\"]=columns_def[\"na_count\"]/len(train_full_df)\n",
    "columns_def[\"per\"]=columns_def[\"na_count\"]/len(train_full_df)\n",
    "limit=0.10\n",
    "columns_final=columns_def[columns_def[\"per\"]<limit].index \n",
    "train_full_df=train_full_df[train_full_df.columns.intersection(columns_final)]\n"
   ],
   "metadata": {
    "collapsed": false,
    "pycharm": {
     "name": "#%%\n"
    }
   }
  },
  {
   "cell_type": "code",
   "execution_count": null,
   "outputs": [],
   "source": [
    "#Categorical data\n",
    "train_full_df[train_full_df.select_dtypes(include=['object']).columns]\n",
    "card6_dummy_df=pd.get_dummies(train_full_df[\"card6\"])\n",
    "train_full_df.shape\n",
    "train_full_df=pd.concat([train_full_df,card6_dummy_df],axis=1)\n",
    "train_full_df=train_full_df._get_numeric_data()\n",
    "train_full_df=train_full_df.dropna()\n",
    "len(train_full_df[train_full_df[\"isFraud\"]==1])/len(train_full_df)*100\n",
    "\n",
    "x_full_df=train_full_df.drop([\"isFraud\"],axis=1)\n",
    "y_full_df=train_full_df[\"isFraud\"]\n",
    "\n",
    "X_train,X_test,y_train,y_test=train_test_split(x_full_df,y_full_df,test_size=0.50)"
   ],
   "metadata": {
    "collapsed": false,
    "pycharm": {
     "name": "#%%\n"
    }
   }
  },
  {
   "cell_type": "code",
   "execution_count": null,
   "outputs": [],
   "source": [
    "#Import model stuff\n",
    "from sklearn.linear_model import LogisticRegression  \n",
    "from sklearn.preprocessing import StandardScaler  \n",
    "\n",
    "from sklearn.metrics import confusion_matrix\n",
    "from sklearn.metrics import classification_report\n",
    "\n",
    "from sklearn.metrics import recall_score\n",
    "from sklearn.metrics import accuracy_score\n"
   ],
   "metadata": {
    "collapsed": false,
    "pycharm": {
     "name": "#%%\n"
    }
   }
  },
  {
   "cell_type": "code",
   "execution_count": null,
   "outputs": [],
   "source": [
    "#Model: Logistic Regression 4ever <3\n",
    "lr = LogisticRegression(solver='lbfgs')  \n",
    "lr.fit(X_train, y_train)\n",
    "lr.score(X_test, y_test)\n",
    "y_pred=lr.predict(X_test)\n",
    "pd.crosstab(y_test, y_pred, rownames=['True'], colnames=['Predicted'], margins=True)\n",
    "recall_score(y_test, y_pred)\n",
    "accuracy_score(y_test, y_pred)\n",
    "recall_score(y_test, y_pred)\n",
    "\n"
   ],
   "metadata": {
    "collapsed": false,
    "pycharm": {
     "name": "#%%\n"
    }
   }
  }
 ],
 "metadata": {
  "kernelspec": {
   "display_name": "Python 3",
   "language": "python",
   "name": "python3"
  },
  "language_info": {
   "codemirror_mode": {
    "name": "ipython",
    "version": 3
   },
   "file_extension": ".py",
   "mimetype": "text/x-python",
   "name": "python",
   "nbconvert_exporter": "python",
   "pygments_lexer": "ipython3",
   "version": "3.6.4"
  },
  "pycharm": {
   "stem_cell": {
    "cell_type": "raw",
    "source": [],
    "metadata": {
     "collapsed": false
    }
   }
  }
 },
 "nbformat": 4,
 "nbformat_minor": 2
}